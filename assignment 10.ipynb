{
 "cells": [
  {
   "cell_type": "code",
   "execution_count": 7,
   "metadata": {},
   "outputs": [
    {
     "name": "stdout",
     "output_type": "stream",
     "text": [
      "\t\t\tSaylani Online Academy Section-c\n",
      "Saylani Mass IT Training\n",
      "\tSaininylani Mass IT Training\n",
      "Saylani Mass IT Training\n",
      "\tSaininylani Mass IT Training\n",
      "Saylani Mass IT Training\n",
      "\tSaininylani Mass IT Training\n",
      "Saylani Mass IT Training\n",
      "\tSaylani Mass IT Training\n",
      "\tSaylani Mass IT Training\n",
      "Saylani Mass IT Training\n",
      "\tSaylani Mass IT Training\n"
     ]
    }
   ],
   "source": [
    "print(\"\\t\\t\\tSaylani Online Academy Section-c\")\n",
    "print(\"Saylani Mass IT Training\")\n",
    "print(\"\\tSaininylani Mass IT Training\")\n",
    "print(\"Saylani Mass IT Training\")\n",
    "print(\"\\tSaininylani Mass IT Training\")\n",
    "print(\"Saylani Mass IT Training\")\n",
    "print(\"\\tSaininylani Mass IT Training\")\n",
    "print(\"Saylani Mass IT Training\")\n",
    "print(\"\\tSaylani Mass IT Training\")\n",
    "print(\"\\tSaylani Mass IT Training\")\n",
    "print(\"Saylani Mass IT Training\")\n",
    "print(\"\\tSaylani Mass IT Training\")"
   ]
  },
  {
   "cell_type": "code",
   "execution_count": 6,
   "metadata": {},
   "outputs": [
    {
     "name": "stdout",
     "output_type": "stream",
     "text": [
      "Saylani Mass IT Training \tSaylani Mass IT Training\n",
      "Saylani Mass IT Training \tSaylani Mass IT Training\n",
      "Saylani Mass IT Training \tSaylani Mass IT Training\n",
      "Saylani Mass IT Training \tSaylani Mass IT Training\n"
     ]
    }
   ],
   "source": [
    "print(\"Saylani Mass IT Training \\tSaylani Mass IT Training\")\n",
    "print(\"Saylani Mass IT Training \\tSaylani Mass IT Training\")  \n",
    "print(\"Saylani Mass IT Training \\tSaylani Mass IT Training\")\n",
    "print(\"Saylani Mass IT Training \\tSaylani Mass IT Training\")"
   ]
  },
  {
   "cell_type": "code",
   "execution_count": 3,
   "metadata": {},
   "outputs": [
    {
     "name": "stdout",
     "output_type": "stream",
     "text": [
      "\tSaylani Mass IT Training \n",
      "Saylani Mass IT Training \tSaylani Mass IT Training\n",
      "\tSaylani Mass IT Training \n",
      "Saylani Mass IT Training \tSaylani Mass IT Training\n",
      "\tSaylani Mass IT Training \n",
      "Saylani Mass IT Training \tSaylani Mass IT Training\n",
      "\tSaylani Mass IT Training \n",
      "Saylani Mass IT Training \tSaylani Mass IT Training\n",
      "\tSaylani Mass IT Training \n",
      "Saylani Mass IT Training \tSaylani Mass IT Training\n"
     ]
    }
   ],
   "source": [
    "print(\"\\tSaylani Mass IT Training \\nSaylani Mass IT Training \\tSaylani Mass IT Training\")\n",
    "print(\"\\tSaylani Mass IT Training \\nSaylani Mass IT Training \\tSaylani Mass IT Training\")\n",
    "print(\"\\tSaylani Mass IT Training \\nSaylani Mass IT Training \\tSaylani Mass IT Training\")\n",
    "print(\"\\tSaylani Mass IT Training \\nSaylani Mass IT Training \\tSaylani Mass IT Training\")\n",
    "print(\"\\tSaylani Mass IT Training \\nSaylani Mass IT Training \\tSaylani Mass IT Training\")"
   ]
  },
  {
   "cell_type": "code",
   "execution_count": 4,
   "metadata": {},
   "outputs": [
    {
     "name": "stdout",
     "output_type": "stream",
     "text": [
      "Saylani Mass IT Training\n",
      "\tSaylani Mass IT Training\n",
      "\t\tSaylani Mass IT Training\n",
      "\t\t\tSaylani Mass IT Training\n",
      "\t\tSaylani Mass IT Training\n",
      "\tSaylani Mass IT Training\n",
      "Saylani Mass IT Training\n"
     ]
    }
   ],
   "source": [
    "    print(\"Saylani Mass IT Training\")\n",
    "    print(\"\\tSaylani Mass IT Training\")\n",
    "    print(\"\\t\\tSaylani Mass IT Training\")\n",
    "    print(\"\\t\\t\\tSaylani Mass IT Training\")\n",
    "    print(\"\\t\\tSaylani Mass IT Training\")\n",
    "    print(\"\\tSaylani Mass IT Training\")\n",
    "    print(\"Saylani Mass IT Training\")\n"
   ]
  },
  {
   "cell_type": "code",
   "execution_count": null,
   "metadata": {},
   "outputs": [],
   "source": []
  }
 ],
 "metadata": {
  "kernelspec": {
   "display_name": "Python 3",
   "language": "python",
   "name": "python3"
  },
  "language_info": {
   "codemirror_mode": {
    "name": "ipython",
    "version": 3
   },
   "file_extension": ".py",
   "mimetype": "text/x-python",
   "name": "python",
   "nbconvert_exporter": "python",
   "pygments_lexer": "ipython3",
   "version": "3.7.4"
  }
 },
 "nbformat": 4,
 "nbformat_minor": 2
}
